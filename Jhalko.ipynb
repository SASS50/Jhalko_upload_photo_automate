{
 "cells": [
  {
   "cell_type": "code",
   "execution_count": 10,
   "id": "055dc5c1",
   "metadata": {},
   "outputs": [
    {
     "name": "stderr",
     "output_type": "stream",
     "text": [
      "C:\\Users\\97798\\AppData\\Local\\Temp\\ipykernel_3208\\3355367462.py:6: DeprecationWarning: executable_path has been deprecated, please pass in a Service object\n",
      "  driver = webdriver.Chrome('C:/Users/97798/Downloads/chromedriver_win32/chromedriver.exe')\n"
     ]
    }
   ],
   "source": [
    "from selenium import webdriver\n",
    "from selenium.webdriver.common.by import By\n",
    "import time\n",
    "import pyautogui\n",
    "\n",
    "driver = webdriver.Chrome('C:/Users/97798/Downloads/chromedriver_win32/chromedriver.exe')\n",
    "driver.get(\"https://jhalko.com/\")\n",
    "driver.maximize_window()\n",
    "time.sleep(2)\n",
    "\n",
    "\n",
    "b = driver.find_element(By.XPATH,\"//a[normalize-space()='UPLOAD PHOTOS']\").click()\n",
    "time.sleep(5)\n",
    "\n",
    "file_dialog_handle = pyautogui.getActiveWindow()\n",
    "\n",
    "pyautogui.typewrite(\"Desktop\")\n",
    "pyautogui.press(\"enter\")\n",
    "pyautogui.typewrite(\"sele\")\n",
    "pyautogui.press(\"enter\")\n",
    "pyautogui.typewrite(\"website.jpg\")\n",
    "pyautogui.press(\"enter\")\n",
    "\n",
    "time.sleep(10)\n",
    "driver.find_element(By.XPATH,\"(//div[contains(@class,'icon')])[3]\").click()\n",
    "\n",
    "time.sleep(15)\n",
    "driver.find_element(By.XPATH,\"(//img)[18]\").click()\n",
    "\n",
    "driver.find_element(By.ID,\"validateframe\").click()\n",
    "\n",
    "driver.find_element(By.NAME,\"full_name\").send_keys(\"Samundra Adhikari\")\n",
    "driver.find_element(By.ID,\"shipping_area\").click()\n",
    "driver.find_element(By.XPATH,\"//option[@data-val='100' and @value='2']\").click()\n",
    "driver.find_element(By.ID,\"user_address\").send_keys(\"Shankarnagar, Butwal\")\n",
    "driver.find_element(By.ID,\"mobile_no\").send_keys(\"1234567890\")\n",
    "driver.find_element(By.XPATH,\"//button[normalize-space()='Confirm & Place Order']\").click()"
   ]
  },
  {
   "cell_type": "code",
   "execution_count": null,
   "id": "90809792",
   "metadata": {},
   "outputs": [],
   "source": []
  }
 ],
 "metadata": {
  "kernelspec": {
   "display_name": "Python 3 (ipykernel)",
   "language": "python",
   "name": "python3"
  },
  "language_info": {
   "codemirror_mode": {
    "name": "ipython",
    "version": 3
   },
   "file_extension": ".py",
   "mimetype": "text/x-python",
   "name": "python",
   "nbconvert_exporter": "python",
   "pygments_lexer": "ipython3",
   "version": "3.9.13"
  }
 },
 "nbformat": 4,
 "nbformat_minor": 5
}
